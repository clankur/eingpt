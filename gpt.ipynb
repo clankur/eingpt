{
 "cells": [
  {
   "cell_type": "code",
   "execution_count": 1,
   "metadata": {},
   "outputs": [],
   "source": [
    "import torch"
   ]
  },
  {
   "cell_type": "code",
   "execution_count": 2,
   "metadata": {},
   "outputs": [
    {
     "name": "stderr",
     "output_type": "stream",
     "text": [
      "/opt/miniconda3/lib/python3.12/site-packages/tqdm/auto.py:21: TqdmWarning: IProgress not found. Please update jupyter and ipywidgets. See https://ipywidgets.readthedocs.io/en/stable/user_install.html\n",
      "  from .autonotebook import tqdm as notebook_tqdm\n"
     ]
    }
   ],
   "source": [
    "from model import GptLanguageModel\n",
    "from common import GptConfig"
   ]
  },
  {
   "cell_type": "code",
   "execution_count": 3,
   "metadata": {},
   "outputs": [],
   "source": [
    "hyperparameters = GptConfig()"
   ]
  },
  {
   "cell_type": "code",
   "execution_count": 4,
   "metadata": {},
   "outputs": [],
   "source": [
    "model = GptLanguageModel(hyperparameters)\n",
    "weights_file = 'model_weights_gqa_tt.pth'\n",
    "model.load_state_dict(torch.load(weights_file, map_location=model.device))\n",
    "m = model.to(model.device)\n",
    "tokenizer = m.tokenizer"
   ]
  },
  {
   "cell_type": "code",
   "execution_count": 5,
   "metadata": {},
   "outputs": [],
   "source": [
    "start_str = \"\"\"Once upon a time there was a pumpkin. It was a very special pumpkin, it could speak. \n",
    "It was sad because it couldn't move. Every day, it would say\"\"\"\n",
    "encoded_input = tokenizer.encode(start_str)\n",
    "idx = torch.tensor(encoded_input, dtype=torch.long, device=model.device).unsqueeze(0)"
   ]
  },
  {
   "cell_type": "code",
   "execution_count": 6,
   "metadata": {},
   "outputs": [
    {
     "name": "stdout",
     "output_type": "stream",
     "text": [
      "Once upon a time there was a pumpkin . It was a very special pumpkin , it could speak . It was sad because it couldn ' t move . Every day , it would say goodbye to it . But one day , the pumpkin grew up and was very sad . But then it saw a little girl who was standing in the pumpkin . The girl said , Let s play with the pumpkin !\" So , the little girl and the pumpkin began to play . They had a lot of fun . The little girl said , I m sorry . Let ' s do it again , and we will be friends . The pumpkin had a lot of fun playing together . The little girl said to the pumpkin , I have a good pumpkin ! The pumpkin was happy and they became best friends .\n"
     ]
    }
   ],
   "source": [
    "print(tokenizer.decode(m.generate(idx = idx, max_new_tokens=model.block_size-len(encoded_input))[0].tolist()))"
   ]
  },
  {
   "cell_type": "code",
   "execution_count": 8,
   "metadata": {},
   "outputs": [
    {
     "name": "stderr",
     "output_type": "stream",
     "text": [
      "Repo card metadata block was not found. Setting CardData to empty.\n"
     ]
    }
   ],
   "source": [
    "from common import TinyStoriesLoader, compute_perplexity\n",
    "validation_set = TinyStoriesLoader(hyperparameters, split='validation')\n",
    "compute_perplexity(m, validation_set)"
   ]
  },
  {
   "cell_type": "code",
   "execution_count": 7,
   "metadata": {},
   "outputs": [
    {
     "name": "stdout",
     "output_type": "stream",
     "text": [
      "Once upon a time , there lived a black cat . The cat belonged to a little girl called Katie . Every day , Katie would take her cat for a walk in the park . One day , as Katie and her cat were walking around , they saw a mean looking man . He said he wanted to take the cat , to which she replied This cat belongs to me , so she said he could steal the cat . The dog didn t want the cat . So the cat said , \" Don ' t worry , I can help you find the cat . You can find the cat and you will find your home .\" Katie was very excited and she said , \" I will give you some of the cat ! You are a good cat !\" The cat was so happy and she thanked Katie for saving her from the new cat . From that day on , she made sure to never give up when a little bird would be able to be . The end .\n"
     ]
    }
   ],
   "source": [
    "start_str = \"\"\"Once upon a time, there lived a black cat. The cat belonged to a little girl called Katie. Every day, Katie\n",
    "would take her cat for a walk in the park.\n",
    "One day, as Katie and her cat were walking around, they saw a mean looking man. He said he wanted to\n",
    "take the cat, to which she replied ”This cat belongs\"\"\"\n",
    "encoded_input = tokenizer.encode(start_str)\n",
    "idx = torch.tensor(encoded_input, dtype=torch.long, device=model.device).unsqueeze(0)\n",
    "print(tokenizer.decode(m.generate(idx = idx, max_new_tokens=model.block_size-len(encoded_input))[0].tolist()))"
   ]
  },
  {
   "cell_type": "code",
   "execution_count": null,
   "metadata": {},
   "outputs": [],
   "source": [
    "from transformers import AutoModelForCausalLM\n",
    "model = AutoModelForCausalLM.from_pretrained('roneneldan/TinyStories-33M')\n",
    "validation_set = TinyStoriesLoader(hyperparameters, split='validation')"
   ]
  },
  {
   "cell_type": "code",
   "execution_count": null,
   "metadata": {},
   "outputs": [],
   "source": [
    "# TODO: fix loading input_ids into model\n",
    "# compute_perplexity(model, validation_set)"
   ]
  }
 ],
 "metadata": {
  "kernelspec": {
   "display_name": "base",
   "language": "python",
   "name": "python3"
  },
  "language_info": {
   "codemirror_mode": {
    "name": "ipython",
    "version": 3
   },
   "file_extension": ".py",
   "mimetype": "text/x-python",
   "name": "python",
   "nbconvert_exporter": "python",
   "pygments_lexer": "ipython3",
   "version": "3.12.2"
  }
 },
 "nbformat": 4,
 "nbformat_minor": 2
}
