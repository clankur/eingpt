{
 "cells": [
  {
   "cell_type": "code",
   "execution_count": 20,
   "metadata": {},
   "outputs": [],
   "source": [
    "import torch"
   ]
  },
  {
   "cell_type": "code",
   "execution_count": 21,
   "metadata": {},
   "outputs": [],
   "source": [
    "from model import GptLanguageModel\n",
    "from common import GptConfig"
   ]
  },
  {
   "cell_type": "code",
   "execution_count": 22,
   "metadata": {},
   "outputs": [],
   "source": [
    "hyperparameters = GptConfig()"
   ]
  },
  {
   "cell_type": "code",
   "execution_count": 27,
   "metadata": {},
   "outputs": [],
   "source": [
    "model = GptLanguageModel(hyperparameters)\n",
    "model.load_state_dict(torch.load('model_weights.pth'))\n",
    "m = model.to(model.device)"
   ]
  },
  {
   "cell_type": "code",
   "execution_count": 28,
   "metadata": {},
   "outputs": [],
   "source": [
    "tokenizer = m.tokenizer"
   ]
  },
  {
   "cell_type": "code",
   "execution_count": 33,
   "metadata": {},
   "outputs": [],
   "source": [
    "start_str = \"\"\"\n",
    "Once upon a time there was a pumpkin. It was a very special pumpkin, it could speak. It was sad because\n",
    "it couldn’t move. Every day, it would say\n",
    "\"\"\"\n",
    "encoded_input = tokenizer.encode(start_str)\n",
    "idx = torch.tensor(encoded_input, dtype=torch.long, device=model.device).unsqueeze(0)"
   ]
  },
  {
   "cell_type": "code",
   "execution_count": 34,
   "metadata": {},
   "outputs": [
    {
     "name": "stdout",
     "output_type": "stream",
     "text": [
      "\n",
      "Once upon a time there was a pumpkin. It was a very special pumpkin, it could speak. It was sad because\n",
      "it couldn’t move. Every day, it would say \"If you may we forget this door'.\n",
      "\n",
      "One day, the pumpkin was a kind lady who should do it. She lived in the pumpkin alone. Soon, the egg started to rot. It was here.\n",
      "\n",
      "One day, there was a little, and even clearer were home in no garden. The old castle was very unhappy because it was dangerous.\n",
      "\n",
      "They arrived in the forest and had an idea. They all went in the ant and hugged each other's heart and said to him.\n",
      "\n",
      "Since then, something brave enough of the star in town was embarrassment, and his fear. But the pumpkin caused her dream. He needed to find the mole soon before the garden happened and couldn't move from all the mystery.\n",
      "\n",
      "Days wasn't listen to rest of the palace he'd found a cozy home in the shadows. Then the enjoyed the sweet egg light and never take it in the dark day. \n",
      "\n",
      "And, the baby friend were now the story of all the marvelous of other pumpkin and kept them in the savork. From that day\n"
     ]
    }
   ],
   "source": [
    "print(tokenizer.decode(m.generate(idx = idx, max_new_tokens=model.block_size-len(encoded_input))[0].tolist()))"
   ]
  }
 ],
 "metadata": {
  "kernelspec": {
   "display_name": "base",
   "language": "python",
   "name": "python3"
  },
  "language_info": {
   "codemirror_mode": {
    "name": "ipython",
    "version": 3
   },
   "file_extension": ".py",
   "mimetype": "text/x-python",
   "name": "python",
   "nbconvert_exporter": "python",
   "pygments_lexer": "ipython3",
   "version": "3.11.5"
  }
 },
 "nbformat": 4,
 "nbformat_minor": 2
}
