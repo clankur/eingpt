{
 "cells": [
  {
   "cell_type": "code",
   "execution_count": 17,
   "metadata": {},
   "outputs": [],
   "source": [
    "import torch"
   ]
  },
  {
   "cell_type": "code",
   "execution_count": 18,
   "metadata": {},
   "outputs": [],
   "source": [
    "import NanoGPTLangugageModel as nano\n",
    "device = nano.device"
   ]
  },
  {
   "cell_type": "code",
   "execution_count": 19,
   "metadata": {},
   "outputs": [],
   "source": [
    "model = nano.NanoGPTLanguageModel()\n",
    "model.load_state_dict(torch.load('model_weights.pth'))\n",
    "m = model.to(nano.device)\n",
    "encode, decode = nano.encode, nano.decode"
   ]
  },
  {
   "cell_type": "code",
   "execution_count": 20,
   "metadata": {},
   "outputs": [
    {
     "name": "stdout",
     "output_type": "stream",
     "text": [
      "The menee t at,\n",
      "TLOM:\n",
      "Cam ikaintil heear it t: so yain iut t y I: I:\n",
      "ONRTLAnto pent ut ca cof CA:\n",
      "I:\n",
      "'bee.\n",
      "\n",
      "\n",
      "Syon y h:\n",
      "Me te r.\n",
      "\n",
      "Mut ite re as, fre dow oto toreas,'ghtnstetmme DMEe out, onoeso e!\n",
      "DUO:\n",
      "KICOf the INY:\n",
      "EE:\n",
      "Th tourwrikscoue ifakm ozenga toff se!\n",
      "\n",
      "\n",
      "Anirese chene, Bur fhistyobe P'l vae d, bis agiler itises otor henks as at ff,\n",
      "KIthea deliarlleuby y uthaben y,\n",
      "N I's\n",
      "Gon ger n'mitorthimaieerer omucatetr phon s brt, he s my pe rs 'l com intef or byofartovengehe.\n",
      "SIf cime a al,\n",
      "OZOMAhy du y.\n"
     ]
    }
   ],
   "source": [
    "start_str = \"The\"\n",
    "idx = torch.tensor(encode(start_str), dtype=torch.long, device=device).unsqueeze(0)\n",
    "print(decode(m.generate(idx = idx, max_new_tokens=500)[0].tolist()))"
   ]
  },
  {
   "cell_type": "code",
   "execution_count": null,
   "metadata": {},
   "outputs": [],
   "source": []
  }
 ],
 "metadata": {
  "kernelspec": {
   "display_name": "base",
   "language": "python",
   "name": "python3"
  },
  "language_info": {
   "codemirror_mode": {
    "name": "ipython",
    "version": 3
   },
   "file_extension": ".py",
   "mimetype": "text/x-python",
   "name": "python",
   "nbconvert_exporter": "python",
   "pygments_lexer": "ipython3",
   "version": "3.11.5"
  }
 },
 "nbformat": 4,
 "nbformat_minor": 2
}
