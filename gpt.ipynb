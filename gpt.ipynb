{
 "cells": [
  {
   "cell_type": "code",
   "execution_count": 1,
   "metadata": {},
   "outputs": [],
   "source": [
    "import torch\n",
    "from torch.nn import functional as F"
   ]
  },
  {
   "cell_type": "code",
   "execution_count": 2,
   "metadata": {},
   "outputs": [],
   "source": [
    "from model import GptLanguageModel\n",
    "from common import encode, decode, GptConfig, lp_hyperparameters\n",
    "from einops import rearrange, einsum"
   ]
  },
  {
   "cell_type": "code",
   "execution_count": 3,
   "metadata": {},
   "outputs": [],
   "source": [
    "hyperparameters = GptConfig()"
   ]
  },
  {
   "cell_type": "code",
   "execution_count": 4,
   "metadata": {},
   "outputs": [],
   "source": [
    "model = GptLanguageModel(hyperparameters)\n",
    "model.load_state_dict(torch.load('model_weights.pth'))\n",
    "m = model.to(model.device)"
   ]
  },
  {
   "cell_type": "code",
   "execution_count": 5,
   "metadata": {},
   "outputs": [
    {
     "name": "stdout",
     "output_type": "stream",
     "text": [
      "\n",
      "Sirrah, I would touch that murdered?\n",
      "\n",
      "RICHARD:\n",
      "Petir, and thy good sovereign.\n",
      "\n",
      "RATCLIFF:\n",
      "That friend from to-the inform worthy brother.\n",
      "\n",
      "EDWARD:\n",
      "Nay! Forguring and Edward cousin!\n",
      "\n",
      "LADY GREY:\n",
      "So you Hold Gaunt Somerset, grief; from they should\n",
      "That muny fri\n"
     ]
    }
   ],
   "source": [
    "start_str = \"\\n\"\n",
    "idx = torch.tensor(encode(start_str), dtype=torch.long, device=model.device).unsqueeze(0)\n",
    "print(decode(m.generate(idx = idx, max_new_tokens=model.block_size)[0].tolist()))"
   ]
  }
 ],
 "metadata": {
  "kernelspec": {
   "display_name": "base",
   "language": "python",
   "name": "python3"
  },
  "language_info": {
   "codemirror_mode": {
    "name": "ipython",
    "version": 3
   },
   "file_extension": ".py",
   "mimetype": "text/x-python",
   "name": "python",
   "nbconvert_exporter": "python",
   "pygments_lexer": "ipython3",
   "version": "3.11.5"
  }
 },
 "nbformat": 4,
 "nbformat_minor": 2
}
