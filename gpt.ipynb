{
 "cells": [
  {
   "cell_type": "code",
   "execution_count": null,
   "metadata": {},
   "outputs": [],
   "source": [
    "import torch"
   ]
  },
  {
   "cell_type": "code",
   "execution_count": null,
   "metadata": {},
   "outputs": [],
   "source": [
    "from model import GptLanguageModel\n",
    "from common import GptConfig"
   ]
  },
  {
   "cell_type": "code",
   "execution_count": null,
   "metadata": {},
   "outputs": [],
   "source": [
    "hyperparameters = GptConfig()"
   ]
  },
  {
   "cell_type": "code",
   "execution_count": null,
   "metadata": {},
   "outputs": [],
   "source": [
    "model = GptLanguageModel(hyperparameters)\n",
    "weights_file = 'model_weights_mqa.pth'\n",
    "model.load_state_dict(torch.load(weights_file, map_location=model.device))\n",
    "m = model.to(model.device)\n",
    "tokenizer = m.tokenizer"
   ]
  },
  {
   "cell_type": "code",
   "execution_count": null,
   "metadata": {},
   "outputs": [],
   "source": [
    "start_str = \"\"\"Once upon a time there was a pumpkin. It was a very special pumpkin, it could speak. \n",
    "It was sad because it couldn't move. Every day, it would say\"\"\"\n",
    "encoded_input = tokenizer.encode(start_str)\n",
    "idx = torch.tensor(encoded_input, dtype=torch.long, device=model.device).unsqueeze(0)"
   ]
  },
  {
   "cell_type": "code",
   "execution_count": null,
   "metadata": {},
   "outputs": [],
   "source": [
    "print(tokenizer.decode(m.generate(idx = idx, max_new_tokens=model.block_size-len(encoded_input))[0].tolist()))"
   ]
  },
  {
   "cell_type": "code",
   "execution_count": null,
   "metadata": {},
   "outputs": [],
   "source": [
    "from common import TinyStoriesLoader, compute_perplexity\n",
    "validation_set = TinyStoriesLoader(hyperparameters, split='validation')\n",
    "compute_perplexity(m, validation_set)"
   ]
  },
  {
   "cell_type": "code",
   "execution_count": null,
   "metadata": {},
   "outputs": [],
   "source": [
    "from transformers import AutoModelForCausalLM\n",
    "model = AutoModelForCausalLM.from_pretrained('roneneldan/TinyStories-33M')\n",
    "validation_set = TinyStoriesLoader(hyperparameters, split='validation')"
   ]
  },
  {
   "cell_type": "code",
   "execution_count": null,
   "metadata": {},
   "outputs": [],
   "source": [
    "# TODO: fix loading input_ids into model\n",
    "# compute_perplexity(model, validation_set)"
   ]
  },
  {
   "cell_type": "code",
   "execution_count": null,
   "metadata": {},
   "outputs": [],
   "source": [
    "start_str = \"\"\"Once upon a time, there lived a black cat. The cat belonged to a little girl called Katie. Every day, Katie\n",
    "would take her cat for a walk in the park.\n",
    "One day, as Katie and her cat were walking around, they saw a mean looking man. He said he wanted to\n",
    "take the cat, to which she replied ”This cat belongs\"\"\"\n",
    "encoded_input = tokenizer.encode(start_str)\n",
    "idx = torch.tensor(encoded_input, dtype=torch.long, device=model.device).unsqueeze(0)\n",
    "print(tokenizer.decode(m.generate(idx = idx, max_new_tokens=model.block_size-len(encoded_input))[0].tolist()))"
   ]
  }
 ],
 "metadata": {
  "kernelspec": {
   "display_name": "base",
   "language": "python",
   "name": "python3"
  },
  "language_info": {
   "codemirror_mode": {
    "name": "ipython",
    "version": 3
   },
   "file_extension": ".py",
   "mimetype": "text/x-python",
   "name": "python",
   "nbconvert_exporter": "python",
   "pygments_lexer": "ipython3",
   "version": "3.12.2"
  }
 },
 "nbformat": 4,
 "nbformat_minor": 2
}
