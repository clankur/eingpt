{
 "cells": [
  {
   "cell_type": "code",
   "execution_count": 1,
   "metadata": {},
   "outputs": [],
   "source": [
    "import torch"
   ]
  },
  {
   "cell_type": "code",
   "execution_count": 2,
   "metadata": {},
   "outputs": [
    {
     "name": "stderr",
     "output_type": "stream",
     "text": [
      "/home/clankur/miniconda3/lib/python3.11/site-packages/tqdm/auto.py:21: TqdmWarning: IProgress not found. Please update jupyter and ipywidgets. See https://ipywidgets.readthedocs.io/en/stable/user_install.html\n",
      "  from .autonotebook import tqdm as notebook_tqdm\n"
     ]
    }
   ],
   "source": [
    "from model import GptLanguageModel\n",
    "from datetime import datetime\n",
    "from common import GptConfig, TinyStoriesLoader, compute_perplexity"
   ]
  },
  {
   "cell_type": "code",
   "execution_count": 4,
   "metadata": {},
   "outputs": [
    {
     "name": "stdout",
     "output_type": "stream",
     "text": [
      "2024-05-16 00:48:47,045 - clearml.model - INFO - Selected model id: 5c561ad5b6ee4288952a0875d5c3555a\n"
     ]
    }
   ],
   "source": [
    "hyperparameters = GptConfig()\n",
    "gqa_tinytok_model = GptLanguageModel(hyperparameters)\n",
    "weights_file = 'model_weights_gqa_tt.pth'\n",
    "gqa_tinytok_model.load_state_dict(torch.load(weights_file, map_location=gqa_tinytok_model.device))\n",
    "gqa_tinytok_model = gqa_tinytok_model.to(gqa_tinytok_model.device)"
   ]
  },
  {
   "cell_type": "code",
   "execution_count": 5,
   "metadata": {},
   "outputs": [
    {
     "name": "stdout",
     "output_type": "stream",
     "text": [
      "Once upon a time , there lived a black cat . The cat belonged to a little girl called Katie . Every day , Katie would take her cat for a walk in the park . One day , as Katie and her cat were walking around , they saw a mean looking man . He said he wanted to take the cat , to which she replied This cat belongs to him and it was not a toy . Katie said he had no one to be his best to see and he said no . The old man was sad , but he knew that Katie wanted to be happy . She gave Katie a hug and said goodbye . They continued their walk , looking at the world around her home . The end .\n"
     ]
    }
   ],
   "source": [
    "tokenizer = gqa_tinytok_model.tokenizer\n",
    "start_str = \"\"\"Once upon a time, there lived a black cat. The cat belonged to a little girl called Katie. Every day, Katie\n",
    "would take her cat for a walk in the park.\n",
    "One day, as Katie and her cat were walking around, they saw a mean looking man. He said he wanted to\n",
    "take the cat, to which she replied ”This cat belongs\"\"\"\n",
    "encoded_input = tokenizer.encode(start_str)\n",
    "idx = torch.tensor(encoded_input, dtype=torch.long, device=gqa_tinytok_model.device).unsqueeze(0)\n",
    "print(tokenizer.decode(gqa_tinytok_model.generate(idx = idx, max_new_tokens=gqa_tinytok_model.block_size-len(encoded_input))[0].tolist()))"
   ]
  },
  {
   "cell_type": "code",
   "execution_count": 6,
   "metadata": {},
   "outputs": [
    {
     "name": "stderr",
     "output_type": "stream",
     "text": [
      "Repo card metadata block was not found. Setting CardData to empty.\n"
     ]
    },
    {
     "data": {
      "text/plain": [
       "1.0000896379215194"
      ]
     },
     "execution_count": 6,
     "metadata": {},
     "output_type": "execute_result"
    }
   ],
   "source": [
    "validation_set = TinyStoriesLoader(hyperparameters, split='validation')\n",
    "compute_perplexity(gqa_tinytok_model, validation_set)"
   ]
  },
  {
   "cell_type": "code",
   "execution_count": 7,
   "metadata": {},
   "outputs": [
    {
     "name": "stdout",
     "output_type": "stream",
     "text": [
      "2024-05-16 00:49:30,632 - clearml.model - INFO - Selected model id: d1fcb7ba2b3c4251be43e4d9cff32fcf\n"
     ]
    },
    {
     "name": "stderr",
     "output_type": "stream",
     "text": [
      "Repo card metadata block was not found. Setting CardData to empty.\n"
     ]
    }
   ],
   "source": [
    "from common import get_gpt2_tokenizer\n",
    "gpt2_tokenizer = get_gpt2_tokenizer()\n",
    "hyperparameters = GptConfig (\n",
    "    n_groups=8,\n",
    "    tokenizer=gpt2_tokenizer,\n",
    "    vocab_size=gpt2_tokenizer.vocab_size +1,\n",
    ") # multihead attention\n",
    "\n",
    "mha_model = GptLanguageModel(hyperparameters)\n",
    "mha_weights_file = 'model_weights_mha.pth'\n",
    "mha_model.load_state_dict(torch.load(mha_weights_file, map_location=mha_model.device))\n",
    "mha_model = mha_model.to(mha_model.device)"
   ]
  },
  {
   "cell_type": "code",
   "execution_count": 8,
   "metadata": {},
   "outputs": [
    {
     "name": "stdout",
     "output_type": "stream",
     "text": [
      "Once upon a time, there lived a black cat. The cat belonged to a little girl called Katie. Every day, Katie\n",
      "would take her cat for a walk in the park.\n",
      "One day, as Katie and her cat were walking around, they saw a mean looking man. He said he wanted to\n",
      "take the cat, to which she replied ”This cat belongs to his owner first. Katie was very sad and asked the man for help.\n",
      "\n",
      " The police officer said, \"I'm sorry you are not being mean to him!\"\n",
      "\n",
      "Katie was surprised and scared of the man. He said, \"Please, little one. That is not a good idea. I'm sorry I was so sad. I'm sorry you did not mean. I didn't have to be mean!\"\n",
      "\n",
      "So they both looked back.\n",
      "\n",
      "The police were still sad, but they were still happy to meet. They were able to be friends, and they all lived happily ever after. They were best friends and never let each other go back home again. \n",
      "\n",
      "The End. They were no matter what the problem, they were not sad. The end.\n",
      "\n",
      "Katie thanked her dad for helping her. She never knew that one is ok\n"
     ]
    }
   ],
   "source": [
    "tokenizer = mha_model.tokenizer\n",
    "start_str = \"\"\"Once upon a time, there lived a black cat. The cat belonged to a little girl called Katie. Every day, Katie\n",
    "would take her cat for a walk in the park.\n",
    "One day, as Katie and her cat were walking around, they saw a mean looking man. He said he wanted to\n",
    "take the cat, to which she replied ”This cat belongs\"\"\"\n",
    "encoded_input = tokenizer.encode(start_str)\n",
    "idx = torch.tensor(encoded_input, dtype=torch.long, device=mha_model.device).unsqueeze(0)\n",
    "print(tokenizer.decode(mha_model.generate(idx = idx, max_new_tokens=mha_model.block_size-len(encoded_input))[0].tolist()))"
   ]
  },
  {
   "cell_type": "code",
   "execution_count": 9,
   "metadata": {},
   "outputs": [
    {
     "data": {
      "text/plain": [
       "1.0001194755958016"
      ]
     },
     "execution_count": 9,
     "metadata": {},
     "output_type": "execute_result"
    }
   ],
   "source": [
    "validation_set = TinyStoriesLoader(hyperparameters, split='validation')\n",
    "compute_perplexity(mha_model, validation_set)"
   ]
  },
  {
   "cell_type": "code",
   "execution_count": null,
   "metadata": {},
   "outputs": [],
   "source": []
  }
 ],
 "metadata": {
  "kernelspec": {
   "display_name": "base",
   "language": "python",
   "name": "python3"
  },
  "language_info": {
   "codemirror_mode": {
    "name": "ipython",
    "version": 3
   },
   "file_extension": ".py",
   "mimetype": "text/x-python",
   "name": "python",
   "nbconvert_exporter": "python",
   "pygments_lexer": "ipython3",
   "version": "3.11.5"
  }
 },
 "nbformat": 4,
 "nbformat_minor": 2
}
