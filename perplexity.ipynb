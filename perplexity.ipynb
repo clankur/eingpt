{
 "cells": [
  {
   "cell_type": "code",
   "execution_count": 1,
   "metadata": {},
   "outputs": [],
   "source": [
    "import torch\n",
    "from clearml import Task"
   ]
  },
  {
   "cell_type": "code",
   "execution_count": 2,
   "metadata": {},
   "outputs": [
    {
     "name": "stderr",
     "output_type": "stream",
     "text": [
      "/home/clankur/miniconda3/lib/python3.11/site-packages/tqdm/auto.py:21: TqdmWarning: IProgress not found. Please update jupyter and ipywidgets. See https://ipywidgets.readthedocs.io/en/stable/user_install.html\n",
      "  from .autonotebook import tqdm as notebook_tqdm\n"
     ]
    }
   ],
   "source": [
    "from model import GptLanguageModel\n",
    "from datetime import datetime\n",
    "from common import GptConfig, TinyStoriesLoader, compute_perplexity"
   ]
  },
  {
   "cell_type": "code",
   "execution_count": 3,
   "metadata": {},
   "outputs": [
    {
     "name": "stdout",
     "output_type": "stream",
     "text": [
      "ClearML Task: created new task id=dd26a5a9c237476399bfef812003a8c0\n",
      "2024-05-15 22:59:00,123 - clearml.Repository Detection - WARNING - Could not read Jupyter Notebook: No module named 'nbconvert'\n",
      "2024-05-15 22:59:00,128 - clearml.Task - INFO - Storing jupyter notebook directly as code\n",
      "ClearML results page: https://app.clear.ml/projects/eb6fc707131b4e44afbfff00c03334e4/experiments/dd26a5a9c237476399bfef812003a8c0/output/log\n"
     ]
    },
    {
     "name": "stdout",
     "output_type": "stream",
     "text": [
      "ClearML results page: https://app.clear.ml/projects/eb6fc707131b4e44afbfff00c03334e4/experiments/dd26a5a9c237476399bfef812003a8c0/output/log\n",
      "ClearML Monitor: Could not detect iteration reporting, falling back to iterations as seconds-from-start\n"
     ]
    }
   ],
   "source": [
    "current_data_time = datetime.now()\n",
    "formatted_date_time = current_data_time.strftime('%Y-%m-%d %H-%M-%S')\n",
    "task = Task.init(project_name='perplexity', task_name=formatted_date_time)"
   ]
  },
  {
   "cell_type": "code",
   "execution_count": 4,
   "metadata": {},
   "outputs": [
    {
     "name": "stdout",
     "output_type": "stream",
     "text": [
      "2024-05-15 22:59:01,553 - clearml.model - INFO - Selected model id: 5c561ad5b6ee4288952a0875d5c3555a\n"
     ]
    }
   ],
   "source": [
    "hyperparameters = GptConfig()\n",
    "gqa_tinytok_model = GptLanguageModel(hyperparameters)\n",
    "weights_file = 'model_weights_gqa_tt.pth'\n",
    "gqa_tinytok_model.load_state_dict(torch.load(weights_file, map_location=gqa_tinytok_model.device))\n",
    "gqa_tinytok_model = gqa_tinytok_model.to(gqa_tinytok_model.device)"
   ]
  },
  {
   "cell_type": "code",
   "execution_count": 5,
   "metadata": {},
   "outputs": [
    {
     "name": "stderr",
     "output_type": "stream",
     "text": [
      "Repo card metadata block was not found. Setting CardData to empty.\n"
     ]
    },
    {
     "data": {
      "text/plain": [
       "tensor(1.0001, device='cuda:0')"
      ]
     },
     "execution_count": 5,
     "metadata": {},
     "output_type": "execute_result"
    }
   ],
   "source": [
    "validation_set = TinyStoriesLoader(hyperparameters, split='validation')\n",
    "compute_perplexity(gqa_tinytok_model, validation_set)"
   ]
  },
  {
   "cell_type": "code",
   "execution_count": 6,
   "metadata": {},
   "outputs": [
    {
     "name": "stdout",
     "output_type": "stream",
     "text": [
      "2024-05-15 23:00:33,943 - clearml.model - INFO - Selected model id: d1fcb7ba2b3c4251be43e4d9cff32fcf\n"
     ]
    },
    {
     "name": "stderr",
     "output_type": "stream",
     "text": [
      "Repo card metadata block was not found. Setting CardData to empty.\n"
     ]
    }
   ],
   "source": [
    "from common import get_gpt2_tokenizer\n",
    "gpt2_tokenizer = get_gpt2_tokenizer()\n",
    "hyperparameters = GptConfig (\n",
    "    n_groups=8,\n",
    "    tokenizer=gpt2_tokenizer,\n",
    "    vocab_size=gpt2_tokenizer.vocab_size +1,\n",
    ") # multihead attention\n",
    "\n",
    "mha_model = GptLanguageModel(hyperparameters)\n",
    "mha_weights_file = 'model_weights_900k_steps.pth'\n",
    "mha_model.load_state_dict(torch.load(mha_weights_file, map_location=mha_model.device))\n",
    "mha_model = mha_model.to(mha_model.device)\n",
    "\n",
    "validation_set = TinyStoriesLoader(hyperparameters, split='validation')"
   ]
  },
  {
   "cell_type": "code",
   "execution_count": 7,
   "metadata": {},
   "outputs": [
    {
     "data": {
      "text/plain": [
       "tensor(1.0001, device='cuda:0')"
      ]
     },
     "execution_count": 7,
     "metadata": {},
     "output_type": "execute_result"
    }
   ],
   "source": [
    "compute_perplexity(mha_model, validation_set)"
   ]
  },
  {
   "cell_type": "code",
   "execution_count": null,
   "metadata": {},
   "outputs": [],
   "source": []
  }
 ],
 "metadata": {
  "kernelspec": {
   "display_name": "base",
   "language": "python",
   "name": "python3"
  },
  "language_info": {
   "codemirror_mode": {
    "name": "ipython",
    "version": 3
   },
   "file_extension": ".py",
   "mimetype": "text/x-python",
   "name": "python",
   "nbconvert_exporter": "python",
   "pygments_lexer": "ipython3",
   "version": "3.11.5"
  }
 },
 "nbformat": 4,
 "nbformat_minor": 2
}
